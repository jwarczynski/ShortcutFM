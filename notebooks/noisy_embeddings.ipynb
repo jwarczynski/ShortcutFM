{
 "cells": [
  {
   "cell_type": "code",
   "execution_count": 1,
   "id": "initial_id",
   "metadata": {
    "ExecuteTime": {
     "end_time": "2025-03-20T14:52:00.614005Z",
     "start_time": "2025-03-20T14:51:53.484013Z"
    },
    "collapsed": true
   },
   "outputs": [
    {
     "name": "stdout",
     "output_type": "stream",
     "text": [
      "Original Predicted Token IDs: tensor([[14694, 13293, 14285, 13111, 29432,  7418, 14067, 18197,  3875, 21200]])\n",
      "Noisy Predicted Token IDs: tensor([[ 4130,   892, 28226, 21131, 18887, 14092, 14067,  7717,  3432, 21200]])\n",
      "Number of changed tokens: 8\n",
      "Percentage of changed tokens: 80.00%\n",
      "MSE Loss: tensor(0.0882, grad_fn=<MseLossBackward0>)\n"
     ]
    }
   ],
   "source": [
    "import torch\n",
    "import torch.nn as nn\n",
    "\n",
    "\n",
    "def cal_anisotropy(model_emb):\n",
    "    model_emb = model_emb / torch.norm(model_emb, dim=-1, keepdim=True)\n",
    "    cos_similarity = torch.mm(model_emb, model_emb.T).sum() - model_emb.size(0)\n",
    "    anisotropy = cos_similarity / model_emb.size(0) / (model_emb.size(0) - 1)\n",
    "    return anisotropy\n",
    "\n",
    "\n",
    "# Parameters\n",
    "vocab_size = 30522\n",
    "embedding_dim = 128\n",
    "embedding_std = 0.1\n",
    "noise_mean = 0.08\n",
    "\n",
    "# Create Embedding layer\n",
    "embedding = nn.Embedding(vocab_size, embedding_dim)\n",
    "nn.init.normal_(embedding.weight, mean=0.0, std=embedding_std)\n",
    "\n",
    "# Create Linear layer sharing weights with Embedding\n",
    "linear = nn.Linear(embedding_dim, vocab_size, bias=False)\n",
    "linear.weight = embedding.weight\n",
    "\n",
    "# Generate random token IDs\n",
    "token_ids = torch.randint(0, vocab_size, (1, 10))  # Example batch of 10 tokens\n",
    "\n",
    "# Get embeddings\n",
    "embeddings = embedding(token_ids)\n",
    "\n",
    "# Get linear layer outputs (logits) without noise\n",
    "logits_original = linear(embeddings)\n",
    "predicted_token_ids_original = torch.argmax(logits_original, dim=-1)\n",
    "\n",
    "# Add noise to embeddings\n",
    "noise = torch.normal(\n",
    "    mean=noise_mean, std=0.3, size=embeddings.size()\n",
    ")  # standard deviation of 1 is chosen to make the noise effect noticeable.\n",
    "noisy_embeddings = embeddings + noise\n",
    "\n",
    "# Get linear layer outputs (logits) with noise\n",
    "logits_noisy = linear(noisy_embeddings)\n",
    "predicted_token_ids_noisy = torch.argmax(logits_noisy, dim=-1)\n",
    "\n",
    "# Compare predicted token IDs\n",
    "print(\"Original Predicted Token IDs:\", predicted_token_ids_original)\n",
    "print(\"Noisy Predicted Token IDs:\", predicted_token_ids_noisy)\n",
    "\n",
    "# Calculate the number of changed tokens\n",
    "changed_tokens = torch.sum(predicted_token_ids_original != predicted_token_ids_noisy).item()\n",
    "print(f\"Number of changed tokens: {changed_tokens}\")\n",
    "\n",
    "# Calculate the percentage of changed tokens\n",
    "percentage_changed = (changed_tokens / token_ids.numel()) * 100\n",
    "print(f\"Percentage of changed tokens: {percentage_changed:.2f}%\")\n",
    "\n",
    "mse_loss = torch.nn.functional.mse_loss(noisy_embeddings, embeddings)\n",
    "print(\"MSE Loss:\", mse_loss)\n",
    "\n",
    "# Optionally, you can analyze the differences in logits:\n",
    "# print(\"Original Logits:\", logits_original)\n",
    "# print(\"Noisy Logits:\", logits_noisy)\n",
    "# print(\"Difference in Logits:\", logits_noisy - logits_original)"
   ]
  },
  {
   "cell_type": "markdown",
   "id": "5124305a7b5e35e0",
   "metadata": {},
   "source": "## Anisotropy Calculation"
  },
  {
   "cell_type": "code",
   "execution_count": 2,
   "id": "76c8a476cb72468b",
   "metadata": {
    "ExecuteTime": {
     "end_time": "2025-03-20T14:52:02.688471Z",
     "start_time": "2025-03-20T14:52:00.638384Z"
    }
   },
   "outputs": [
    {
     "name": "stdout",
     "output_type": "stream",
     "text": [
      "Anisotropy of Original Embeddings: tensor(-1.3611e-06, grad_fn=<DivBackward0>)\n"
     ]
    }
   ],
   "source": [
    "print(\"Anisotropy of Original Embeddings:\", cal_anisotropy(embedding.weight))"
   ]
  },
  {
   "cell_type": "code",
   "execution_count": 3,
   "id": "20ef363ce522512f",
   "metadata": {
    "ExecuteTime": {
     "end_time": "2025-03-20T14:52:02.976782Z",
     "start_time": "2025-03-20T14:52:02.964773Z"
    }
   },
   "outputs": [],
   "source": [
    "def generate_embeddings_with_anisotropy(n_samples, embedding_dim, target_anisotropy, max_iterations=10):\n",
    "    \"\"\"Generate embeddings with a specified anisotropy level.\n",
    "\n",
    "    Args:\n",
    "        n_samples (int): Number of embedding vectors\n",
    "        embedding_dim (int): Dimension of each embedding vector\n",
    "        target_anisotropy (float): Desired anisotropy level (between 0 and 1)\n",
    "        max_iterations (int): Maximum iterations for optimization\n",
    "\n",
    "    Returns:\n",
    "        torch.Tensor: Embeddings with shape (n_samples, embedding_dim)\n",
    "\n",
    "    \"\"\"\n",
    "    # Validate input\n",
    "    if not 0 <= target_anisotropy <= 1:\n",
    "        raise ValueError(\"Target anisotropy must be between 0 and 1\")\n",
    "\n",
    "    # Initialize random embeddings\n",
    "    embeddings = torch.randn(n_samples, embedding_dim)\n",
    "    embeddings = embeddings / torch.norm(embeddings, dim=-1, keepdim=True)\n",
    "\n",
    "    # Optimization parameters\n",
    "    learning_rate = 0.1\n",
    "    tolerance = 1e-3\n",
    "\n",
    "    for iteration in range(max_iterations):\n",
    "        # Calculate current anisotropy\n",
    "        cos_sim = torch.mm(embeddings, embeddings.T)\n",
    "        current_anisotropy = (cos_sim.sum() - n_samples) / (n_samples * (n_samples - 1))\n",
    "\n",
    "        # Check if we're close enough to target\n",
    "        if abs(current_anisotropy - target_anisotropy) < tolerance:\n",
    "            break\n",
    "\n",
    "        # Calculate gradient\n",
    "        grad = torch.mm(embeddings.T, cos_sim) - embeddings * torch.diagonal(cos_sim).unsqueeze(1)\n",
    "        grad = grad / torch.norm(grad)\n",
    "\n",
    "        # Update embeddings\n",
    "        adjustment = learning_rate * grad.T\n",
    "        embeddings = embeddings - adjustment\n",
    "\n",
    "        # Re-normalize\n",
    "        embeddings = embeddings / torch.norm(embeddings, dim=-1, keepdim=True)\n",
    "\n",
    "        # Reduce learning rate over time\n",
    "        learning_rate *= 0.99\n",
    "\n",
    "    # Final normalization\n",
    "    embeddings = embeddings / torch.norm(embeddings, dim=-1, keepdim=True)\n",
    "\n",
    "    # Verify final anisotropy\n",
    "    final_anisotropy = cal_anisotropy(embeddings)\n",
    "    print(f\"Final anisotropy: {final_anisotropy.item():.4f} (Target: {target_anisotropy})\")\n",
    "\n",
    "    return embeddings"
   ]
  },
  {
   "cell_type": "code",
   "execution_count": 4,
   "id": "50e323e985539d10",
   "metadata": {
    "ExecuteTime": {
     "end_time": "2025-03-20T14:52:03.065163Z",
     "start_time": "2025-03-20T14:52:03.026588Z"
    }
   },
   "outputs": [],
   "source": [
    "import torch\n",
    "import torch.nn as nn\n",
    "\n",
    "\n",
    "def generate_embeddings_with_anisotropy(n_samples, embedding_dim, target_anisotropy):\n",
    "    \"\"\"Generate embeddings with specified anisotropy using a faster method.\"\"\"\n",
    "    if not 0 <= target_anisotropy <= 1:\n",
    "        raise ValueError(\"Target anisotropy must be between 0 and 1\")\n",
    "\n",
    "    # Start with random embeddings\n",
    "    embeddings = torch.randn(n_samples, embedding_dim)\n",
    "    embeddings = embeddings / torch.norm(embeddings, dim=-1, keepdim=True)\n",
    "\n",
    "    # Calculate desired average cosine similarity\n",
    "    # For anisotropy = sum(cos_sim - n)/(n*(n-1)), we want cos_sim to achieve this\n",
    "    desired_avg_cos = target_anisotropy * (n_samples - 1) / n_samples\n",
    "\n",
    "    # Use a mixture of orthogonal and correlated components\n",
    "    # Orthogonal base\n",
    "    ortho_dim = min(n_samples, embedding_dim)\n",
    "    ortho_embeddings = torch.randn(n_samples, ortho_dim)\n",
    "    ortho_embeddings = torch.nn.functional.normalize(ortho_embeddings, dim=-1)\n",
    "\n",
    "    # Add correlated component to achieve desired anisotropy\n",
    "    correlation_factor = torch.sqrt(torch.tensor(desired_avg_cos / (1 - desired_avg_cos) + 1e-6))\n",
    "    common_vector = torch.randn(1, embedding_dim)\n",
    "    common_vector = common_vector / torch.norm(common_vector)\n",
    "\n",
    "    # Combine orthogonal and correlated parts\n",
    "    if embedding_dim > ortho_dim:\n",
    "        extra_dims = torch.randn(n_samples, embedding_dim - ortho_dim)\n",
    "        extra_dims = torch.nn.functional.normalize(extra_dims, dim=-1)\n",
    "        ortho_embeddings = torch.cat([ortho_embeddings, extra_dims], dim=-1)\n",
    "\n",
    "    embeddings = (ortho_embeddings + correlation_factor * common_vector) / (1 + correlation_factor)\n",
    "    embeddings = embeddings / torch.norm(embeddings, dim=-1, keepdim=True)\n",
    "\n",
    "    final_anisotropy = cal_anisotropy(embeddings)\n",
    "    print(f\"Final anisotropy: {final_anisotropy.item():.4f} (Target: {target_anisotropy})\")\n",
    "    return embeddings\n",
    "\n",
    "\n",
    "def cal_anisotropy(model_emb):\n",
    "    model_emb = model_emb / torch.norm(model_emb, dim=-1, keepdim=True)\n",
    "    cos_similarity = torch.mm(model_emb, model_emb.T).sum() - model_emb.size(0)\n",
    "    anisotropy = cos_similarity / model_emb.size(0) / (model_emb.size(0) - 1)\n",
    "    return anisotropy\n",
    "\n",
    "\n",
    "def create_anisotropic_embedding_layer(vocab_size, embedding_dim, target_anisotropy):\n",
    "    embeddings = generate_embeddings_with_anisotropy(\n",
    "        n_samples=vocab_size,\n",
    "        embedding_dim=embedding_dim,\n",
    "        target_anisotropy=target_anisotropy,\n",
    "    )\n",
    "    return nn.Embedding.from_pretrained(embeddings, freeze=False)"
   ]
  },
  {
   "cell_type": "code",
   "execution_count": 5,
   "id": "28258515fa20bbac",
   "metadata": {
    "ExecuteTime": {
     "end_time": "2025-03-19T18:42:17.962230Z",
     "start_time": "2025-03-19T18:42:14.602049Z"
    }
   },
   "outputs": [
    {
     "name": "stdout",
     "output_type": "stream",
     "text": [
      "Final anisotropy: 0.4990 (Target: 0.5)\n",
      "Anisotropy: 0.4990\n",
      "Input token ids:      tensor([[27771, 25099, 14131,  4840,  1692, 21310, 10351, 30385,  7789, 23414]])\n",
      "Original token ids:   tensor([[27771, 25099, 14131,  4840,  1692, 21310, 10351, 30385,  7789, 23414]])\n",
      "Noisy token ids:      tensor([[25937, 25099, 16772,  8878, 29768, 17436,  7202,  1406,  8876, 22901]])\n",
      "Number of changed tokens: 9\n",
      "Percentage of changed tokens: 90.00%\n",
      "MSE Loss: 0.0475\n"
     ]
    }
   ],
   "source": [
    "# Your exact parameters\n",
    "vocab_size = 30522\n",
    "embedding_dim = 128\n",
    "embedding_std = 0.2\n",
    "noise_mean = 0.08\n",
    "\n",
    "# Create the anisotropic embedding layer\n",
    "anisotropic_embedding = create_anisotropic_embedding_layer(vocab_size, embedding_dim, 0.5)\n",
    "\n",
    "# Create a linear layer with correct dimensions\n",
    "linear = nn.Linear(embedding_dim, vocab_size, bias=False)\n",
    "linear.weight.data = anisotropic_embedding.weight.data.clone()\n",
    "\n",
    "# Calculate anisotropy\n",
    "anisotropy = cal_anisotropy(anisotropic_embedding.weight)\n",
    "print(f\"Anisotropy: {anisotropy:.4f}\")\n",
    "\n",
    "# Example usage with noise\n",
    "token_ids = torch.randint(0, vocab_size, (1, 10))\n",
    "embeddings = anisotropic_embedding(token_ids)\n",
    "\n",
    "noise = torch.normal(mean=noise_mean, std=embedding_std, size=embeddings.size())\n",
    "noisy_embeddings = embeddings + noise\n",
    "\n",
    "logits_original = linear(embeddings)\n",
    "logits_noisy = linear(noisy_embeddings)\n",
    "\n",
    "predicted_token_ids_original = torch.argmax(logits_original, dim=-1)\n",
    "predicted_token_ids_noisy = torch.argmax(logits_noisy, dim=-1)\n",
    "\n",
    "print(f\"Input token ids:      {token_ids}\")\n",
    "print(f\"Original token ids:   {predicted_token_ids_original}\")\n",
    "print(f\"Noisy token ids:      {predicted_token_ids_noisy}\")\n",
    "\n",
    "changed_tokens = torch.sum(predicted_token_ids_original != predicted_token_ids_noisy).item()\n",
    "print(f\"Number of changed tokens: {changed_tokens}\")\n",
    "\n",
    "percentage_changed = (changed_tokens / token_ids.numel()) * 100\n",
    "print(f\"Percentage of changed tokens: {percentage_changed:.2f}%\")\n",
    "\n",
    "mse_loss = torch.nn.functional.mse_loss(noisy_embeddings, embeddings)\n",
    "print(f\"MSE Loss: {mse_loss:.4f}\")"
   ]
  },
  {
   "cell_type": "code",
   "execution_count": 5,
   "id": "21b04e43c4bd08af",
   "metadata": {
    "ExecuteTime": {
     "end_time": "2025-03-20T14:52:04.472038Z",
     "start_time": "2025-03-20T14:52:03.093925Z"
    }
   },
   "outputs": [],
   "source": [
    "import matplotlib.pyplot as plt\n",
    "import numpy as np\n",
    "import torch\n",
    "\n",
    "\n",
    "def analyze_l2_distances(anisotropic_emb, regular_emb, sample_size=1000):\n",
    "    \"\"\"Compute and visualize L2 distance statistics between embeddings.\n",
    "\n",
    "    Args:\n",
    "        anisotropic_emb (torch.Tensor): Anisotropic embedding weights (vocab_size, embedding_dim)\n",
    "        regular_emb (torch.Tensor): Regular embedding weights (vocab_size, embedding_dim)\n",
    "        sample_size (int): Number of embeddings to sample for distance computation\n",
    "\n",
    "    \"\"\"\n",
    "    # Convert to numpy and sample\n",
    "    aniso_np = anisotropic_emb.detach().cpu().numpy()\n",
    "    reg_np = regular_emb.detach().cpu().numpy()\n",
    "    indices = np.random.choice(aniso_np.shape[0], min(sample_size, aniso_np.shape[0]), replace=False)\n",
    "    aniso_sample = aniso_np[indices]\n",
    "    reg_sample = reg_np[indices]\n",
    "\n",
    "    # Compute pairwise L2 distances\n",
    "    def compute_pairwise_l2(embeddings):\n",
    "        # Convert to torch for efficient computation\n",
    "        emb = torch.from_numpy(embeddings)\n",
    "        # Compute squared differences\n",
    "        diff = emb.unsqueeze(0) - emb.unsqueeze(1)  # [sample_size, sample_size, embedding_dim]\n",
    "        distances = torch.norm(diff, p=2, dim=2)  # [sample_size, sample_size]\n",
    "        # Get upper triangle excluding diagonal\n",
    "        triu_indices = torch.triu_indices(sample_size, sample_size, offset=1)\n",
    "        return distances[triu_indices[0], triu_indices[1]].numpy()\n",
    "\n",
    "    aniso_distances = compute_pairwise_l2(aniso_sample)\n",
    "    reg_distances = compute_pairwise_l2(reg_sample)\n",
    "\n",
    "    # Compute statistics\n",
    "    aniso_stats = {\n",
    "        \"mean\": np.mean(aniso_distances),\n",
    "        \"std\": np.std(aniso_distances),\n",
    "        \"min\": np.min(aniso_distances),\n",
    "        \"max\": np.max(aniso_distances),\n",
    "    }\n",
    "    reg_stats = {\n",
    "        \"mean\": np.mean(reg_distances),\n",
    "        \"std\": np.std(reg_distances),\n",
    "        \"min\": np.min(reg_distances),\n",
    "        \"max\": np.max(reg_distances),\n",
    "    }\n",
    "\n",
    "    # Print statistics\n",
    "    print(\"Anisotropic Embeddings L2 Distance Statistics:\")\n",
    "    for key, value in aniso_stats.items():\n",
    "        print(f\"{key}: {value:.4f}\")\n",
    "    print(\"\\nRegular Embeddings L2 Distance Statistics:\")\n",
    "    for key, value in reg_stats.items():\n",
    "        print(f\"{key}: {value:.4f}\")\n",
    "\n",
    "    # Visualize histograms\n",
    "    plt.figure(figsize=(12, 6))\n",
    "    plt.hist(\n",
    "        aniso_distances,\n",
    "        bins=50,\n",
    "        alpha=0.7,\n",
    "        color=\"blue\",\n",
    "        label=\"Anisotropic\",\n",
    "        density=True,\n",
    "    )\n",
    "    plt.hist(reg_distances, bins=50, alpha=0.7, color=\"red\", label=\"Regular\", density=True)\n",
    "    plt.title(f\"L2 Distance Distribution (Sampled {sample_size} embeddings)\")\n",
    "    plt.xlabel(\"L2 Distance\")\n",
    "    plt.ylabel(\"Density\")\n",
    "    plt.legend()\n",
    "    plt.grid(True)\n",
    "    plt.tight_layout()\n",
    "    plt.show()"
   ]
  },
  {
   "cell_type": "code",
   "execution_count": 6,
   "id": "f993a10d08018999",
   "metadata": {
    "ExecuteTime": {
     "end_time": "2025-03-20T14:52:04.797465Z",
     "start_time": "2025-03-20T14:52:04.567278Z"
    }
   },
   "outputs": [
    {
     "ename": "ModuleNotFoundError",
     "evalue": "No module named 'sklearn'",
     "output_type": "error",
     "traceback": [
      "\u001b[31m---------------------------------------------------------------------------\u001b[39m",
      "\u001b[31mModuleNotFoundError\u001b[39m                       Traceback (most recent call last)",
      "\u001b[36mCell\u001b[39m\u001b[36m \u001b[39m\u001b[32mIn[6]\u001b[39m\u001b[32m, line 2\u001b[39m\n\u001b[32m      1\u001b[39m \u001b[38;5;28;01mimport\u001b[39;00m\u001b[38;5;250m \u001b[39m\u001b[34;01mtorch\u001b[39;00m\n\u001b[32m----> \u001b[39m\u001b[32m2\u001b[39m \u001b[38;5;28;01mfrom\u001b[39;00m\u001b[38;5;250m \u001b[39m\u001b[34;01msklearn\u001b[39;00m\u001b[34;01m.\u001b[39;00m\u001b[34;01mmanifold\u001b[39;00m\u001b[38;5;250m \u001b[39m\u001b[38;5;28;01mimport\u001b[39;00m TSNE\n\u001b[32m      3\u001b[39m \u001b[38;5;28;01mimport\u001b[39;00m\u001b[38;5;250m \u001b[39m\u001b[34;01mmatplotlib\u001b[39;00m\u001b[34;01m.\u001b[39;00m\u001b[34;01mpyplot\u001b[39;00m\u001b[38;5;250m \u001b[39m\u001b[38;5;28;01mas\u001b[39;00m\u001b[38;5;250m \u001b[39m\u001b[34;01mplt\u001b[39;00m\n\u001b[32m      4\u001b[39m \u001b[38;5;28;01mimport\u001b[39;00m\u001b[38;5;250m \u001b[39m\u001b[34;01mnumpy\u001b[39;00m\u001b[38;5;250m \u001b[39m\u001b[38;5;28;01mas\u001b[39;00m\u001b[38;5;250m \u001b[39m\u001b[34;01mnp\u001b[39;00m\n",
      "\u001b[31mModuleNotFoundError\u001b[39m: No module named 'sklearn'"
     ]
    }
   ],
   "source": [
    "import torch\n",
    "from sklearn.manifold import TSNE\n",
    "\n",
    "\n",
    "def visualize_embeddings_shared_space(anisotropic_emb, regular_emb, sample_size=500, perplexity=30, n_iter=1000):\n",
    "    \"\"\"Visualize anisotropic and regular embeddings in a shared t-SNE space.\n",
    "\n",
    "    Args:\n",
    "        anisotropic_emb (torch.Tensor): Anisotropic embedding weights (vocab_size, embedding_dim)\n",
    "        regular_emb (torch.Tensor): Regular embedding weights (vocab_size, embedding_dim)\n",
    "        sample_size (int): Number of embeddings to sample for visualization\n",
    "        perplexity (int): t-SNE perplexity parameter\n",
    "        n_iter (int): Number of iterations for t-SNE optimization\n",
    "\n",
    "    \"\"\"\n",
    "    # Convert to numpy\n",
    "    aniso_np = anisotropic_emb.detach().cpu().numpy()\n",
    "    reg_np = regular_emb.detach().cpu().numpy()\n",
    "\n",
    "    # Sample same indices for both to maintain correspondence\n",
    "    indices = np.random.choice(aniso_np.shape[0], min(sample_size, aniso_np.shape[0]), replace=False)\n",
    "    aniso_sample = aniso_np[indices]\n",
    "    reg_sample = reg_np[indices]\n",
    "\n",
    "    # Combine into one dataset for shared t-SNE projection\n",
    "    combined = np.vstack([aniso_sample, reg_sample])\n",
    "    tsne = TSNE(\n",
    "        n_components=2,\n",
    "        perplexity=min(perplexity, sample_size - 1),\n",
    "        n_iter=n_iter,\n",
    "        random_state=42,\n",
    "    )\n",
    "    combined_2d = tsne.fit_transform(combined)\n",
    "\n",
    "    # Split back into separate sets\n",
    "    aniso_2d = combined_2d[:sample_size]\n",
    "    reg_2d = combined_2d[sample_size:]\n",
    "\n",
    "    # Plot both on same axes\n",
    "    plt.figure(figsize=(12, 10))\n",
    "    plt.scatter(\n",
    "        aniso_2d[:, 0],\n",
    "        aniso_2d[:, 1],\n",
    "        s=30,\n",
    "        c=\"blue\",\n",
    "        alpha=0.7,\n",
    "        label=f\"Anisotropic (anisotropy: {cal_anisotropy(anisotropic_emb):.4f})\",\n",
    "    )\n",
    "    plt.scatter(\n",
    "        reg_2d[:, 0],\n",
    "        reg_2d[:, 1],\n",
    "        s=30,\n",
    "        c=\"red\",\n",
    "        alpha=0.7,\n",
    "        label=f\"Regular (anisotropy: {cal_anisotropy(regular_emb):.4f})\",\n",
    "    )\n",
    "    plt.title(f\"Embedding Comparison in Shared t-SNE Space (Sampled {sample_size} points)\")\n",
    "    plt.xlabel(\"t-SNE Dimension 1\")\n",
    "    plt.ylabel(\"t-SNE Dimension 2\")\n",
    "    plt.grid(True)\n",
    "    plt.legend()\n",
    "    plt.tight_layout()\n",
    "    plt.show()\n",
    "\n",
    "\n",
    "# Your cal_anisotropy function (needed for labels)\n",
    "def cal_anisotropy(model_emb):\n",
    "    model_emb = model_emb / torch.norm(model_emb, dim=-1, keepdim=True)\n",
    "    cos_similarity = torch.mm(model_emb, model_emb.T).sum() - model_emb.size(0)\n",
    "    anisotropy = cos_similarity / model_emb.size(0) / (model_emb.size(0) - 1)\n",
    "    return anisotropy"
   ]
  },
  {
   "cell_type": "code",
   "execution_count": 7,
   "id": "7e6df9aca3109d1c",
   "metadata": {
    "ExecuteTime": {
     "end_time": "2025-03-20T14:52:07.323232Z",
     "start_time": "2025-03-20T14:52:07.319035Z"
    }
   },
   "outputs": [],
   "source": [
    "vocab_size = 30522\n",
    "embedding_dim = 128"
   ]
  },
  {
   "cell_type": "code",
   "execution_count": 8,
   "id": "b8144860190220c3",
   "metadata": {
    "ExecuteTime": {
     "end_time": "2025-03-20T14:52:14.527368Z",
     "start_time": "2025-03-20T14:52:11.503961Z"
    }
   },
   "outputs": [
    {
     "name": "stdout",
     "output_type": "stream",
     "text": [
      "Final anisotropy: 0.4987 (Target: 0.5)\n",
      "Anisotropic Embeddings L2 Distance Statistics:\n",
      "mean: 1.0005\n",
      "std: 0.0536\n",
      "min: 0.7746\n",
      "max: 1.2297\n",
      "\n",
      "Regular Embeddings L2 Distance Statistics:\n",
      "mean: 15.9991\n",
      "std: 1.0065\n",
      "min: 11.3518\n",
      "max: 20.7913\n"
     ]
    },
    {
     "data": {
      "image/png": "[encoded data removed]",
      "text/plain": [
       "<Figure size 1200x600 with 1 Axes>"
      ]
     },
     "metadata": {},
     "output_type": "display_data"
    }
   ],
   "source": [
    "regular_embedding = nn.Embedding(vocab_size, embedding_dim)\n",
    "torch.nn.init.normal_(regular_embedding.weight, mean=0, std=1.0)\n",
    "\n",
    "\n",
    "anisotropic_embedding = create_anisotropic_embedding_layer(vocab_size, embedding_dim, 0.5)\n",
    "\n",
    "# Visualize in shared space\n",
    "# visualize_embeddings_shared_space(anisotropic_embedding.weight, regular_embedding.weight)\n",
    "analyze_l2_distances(anisotropic_embedding.weight, regular_embedding.weight)"
   ]
  },
  {
   "cell_type": "code",
   "execution_count": 9,
   "id": "c1b12ca256130990",
   "metadata": {
    "ExecuteTime": {
     "end_time": "2025-03-20T14:52:14.549575Z",
     "start_time": "2025-03-20T14:52:14.543574Z"
    }
   },
   "outputs": [],
   "source": [
    "def isotropy_loss(embeddings):\n",
    "    norm_emb = embeddings / torch.norm(embeddings, dim=-1, keepdim=True)\n",
    "    cos_sim = torch.mm(norm_emb, norm_emb.T)\n",
    "    off_diag = cos_sim - torch.eye(cos_sim.size(0), device=cos_sim.device)\n",
    "    return torch.mean(off_diag**2)"
   ]
  },
  {
   "cell_type": "code",
   "execution_count": 10,
   "id": "d35211b17e7e78a",
   "metadata": {
    "ExecuteTime": {
     "end_time": "2025-03-20T14:52:18.947297Z",
     "start_time": "2025-03-20T14:52:14.586288Z"
    }
   },
   "outputs": [
    {
     "data": {
      "text/plain": [
       "tensor(0.2517, grad_fn=<MeanBackward0>)"
      ]
     },
     "execution_count": 10,
     "metadata": {},
     "output_type": "execute_result"
    }
   ],
   "source": [
    "isotropy_loss(anisotropic_embedding.weight)"
   ]
  },
  {
   "cell_type": "code",
   "execution_count": 11,
   "id": "23a4b275a64ec8eb",
   "metadata": {
    "ExecuteTime": {
     "end_time": "2025-03-20T14:52:22.926816Z",
     "start_time": "2025-03-20T14:52:18.979273Z"
    }
   },
   "outputs": [
    {
     "data": {
      "text/plain": [
       "tensor(0.0078, grad_fn=<MeanBackward0>)"
      ]
     },
     "execution_count": 11,
     "metadata": {},
     "output_type": "execute_result"
    }
   ],
   "source": [
    "isotropy_loss(regular_embedding.weight)"
   ]
  },
  {
   "cell_type": "code",
   "execution_count": 14,
   "id": "ac645e963b3b14cc",
   "metadata": {
    "ExecuteTime": {
     "end_time": "2025-03-20T14:53:15.429343Z",
     "start_time": "2025-03-20T14:53:15.421562Z"
    }
   },
   "outputs": [],
   "source": [
    "import torch\n",
    "\n",
    "\n",
    "def visualize_closest_embedding_distances(\n",
    "    embeddings,\n",
    "    sample_size=1000,\n",
    "    title=\"Distribution of Closest Embedding Distances\",\n",
    "    bins=50,\n",
    "):\n",
    "    \"\"\"Compute and visualize the distribution of L2 distances to the closest embedding, with sampling.\n",
    "\n",
    "    Args:\n",
    "        embeddings (torch.Tensor): Embedding weights of shape (n_samples, embedding_dim)\n",
    "        sample_size (int): Number of embeddings to sample for computation\n",
    "        title (str): Title for the plot\n",
    "        bins (int): Number of bins for the histogram\n",
    "\n",
    "    \"\"\"\n",
    "    # Sample a subset to avoid memory issues\n",
    "    n_samples = embeddings.size(0)\n",
    "    sample_size = min(sample_size, n_samples)  # Ensure we don’t exceed available embeddings\n",
    "    indices = torch.randperm(n_samples)[:sample_size]\n",
    "    sampled_emb = embeddings[indices]\n",
    "\n",
    "    # Normalize embeddings (optional; remove if raw distances are preferred)\n",
    "    norm_emb = sampled_emb / torch.norm(sampled_emb, dim=-1, keepdim=True)\n",
    "\n",
    "    # Compute pairwise L2 distances\n",
    "    diff = norm_emb.unsqueeze(0) - norm_emb.unsqueeze(1)  # Shape: (sample_size, sample_size, embedding_dim)\n",
    "    distances = torch.norm(diff, p=2, dim=2)  # Shape: (sample_size, sample_size)\n",
    "\n",
    "    # Mask self-distances with a large value\n",
    "    distances = distances + torch.eye(sample_size, device=embeddings.device) * 1e10\n",
    "\n",
    "    # Get distance to closest neighbor for each embedding\n",
    "    min_distances = torch.min(distances, dim=1)[0]  # Shape: (sample_size,)\n",
    "\n",
    "    # Convert to numpy for plotting\n",
    "    min_distances_np = min_distances.detach().cpu().numpy()\n",
    "\n",
    "    # Plot histogram\n",
    "    plt.figure(figsize=(10, 6))\n",
    "    plt.hist(min_distances_np, bins=bins, alpha=0.7, color=\"blue\", density=True)\n",
    "    plt.title(f\"{title} (Sampled {sample_size} embeddings)\")\n",
    "    plt.xlabel(\"L2 Distance to Closest Embedding\")\n",
    "    plt.ylabel(\"Density\")\n",
    "    plt.grid(True)\n",
    "    plt.tight_layout()\n",
    "    plt.show()\n",
    "\n",
    "    # Print basic statistics\n",
    "    avg_dist = min_distances.mean().item()\n",
    "    std_dist = min_distances.std().item()\n",
    "    print(f\"Average distance: {avg_dist:.4f}\")\n",
    "    print(f\"Standard deviation: {std_dist:.4f}\")\n",
    "    print(f\"Min distance: {min_distances.min().item():.4f}\")\n",
    "    print(f\"Max distance: {min_distances.max().item():.4f}\")"
   ]
  },
  {
   "cell_type": "code",
   "execution_count": 15,
   "id": "4961b295017af858",
   "metadata": {
    "ExecuteTime": {
     "end_time": "2025-03-20T14:53:16.085449Z",
     "start_time": "2025-03-20T14:53:15.749988Z"
    }
   },
   "outputs": [
    {
     "data": {
      "image/png": "[encoded data removed]",
      "text/plain": [
       "<Figure size 1000x600 with 1 Axes>"
      ]
     },
     "metadata": {},
     "output_type": "display_data"
    },
    {
     "name": "stdout",
     "output_type": "stream",
     "text": [
      "Average distance: 0.8403\n",
      "Standard deviation: 0.0263\n",
      "Min distance: 0.7677\n",
      "Max distance: 0.9349\n"
     ]
    }
   ],
   "source": [
    "visualize_closest_embedding_distances(\n",
    "    anisotropic_embedding.weight,\n",
    "    title=\"Anisotropic Embeddings: Closest Neighbor Distance Distribution\",\n",
    ")"
   ]
  },
  {
   "cell_type": "code",
   "execution_count": 16,
   "id": "e70ed838335b4f3e",
   "metadata": {
    "ExecuteTime": {
     "end_time": "2025-03-20T14:53:29.122247Z",
     "start_time": "2025-03-20T14:53:28.807059Z"
    }
   },
   "outputs": [
    {
     "data": {
      "image/png": "[encoded data removed]",
      "text/plain": [
       "<Figure size 1000x600 with 1 Axes>"
      ]
     },
     "metadata": {},
     "output_type": "display_data"
    },
    {
     "name": "stdout",
     "output_type": "stream",
     "text": [
      "Average distance: 1.1992\n",
      "Standard deviation: 0.0249\n",
      "Min distance: 1.0878\n",
      "Max distance: 1.2552\n"
     ]
    }
   ],
   "source": [
    "visualize_closest_embedding_distances(regular_embedding.weight)"
   ]
  },
  {
   "cell_type": "code",
   "execution_count": null,
   "id": "2e8f17eb476cce98",
   "metadata": {},
   "outputs": [],
   "source": []
  }
 ],
 "metadata": {
  "kernelspec": {
   "display_name": "Python 3",
   "language": "python",
   "name": "python3"
  },
  "language_info": {
   "codemirror_mode": {
    "name": "ipython",
    "version": 2
   },
   "file_extension": ".py",
   "mimetype": "text/x-python",
   "name": "python",
   "nbconvert_exporter": "python",
   "pygments_lexer": "ipython2",
   "version": "2.7.6"
  }
 },
 "nbformat": 4,
 "nbformat_minor": 5
}
