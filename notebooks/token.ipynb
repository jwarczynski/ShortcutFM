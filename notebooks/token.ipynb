{
 "cells": [
  {
   "cell_type": "code",
   "execution_count": 1,
   "id": "initial_id",
   "metadata": {
    "ExecuteTime": {
     "end_time": "2025-03-07T21:37:26.934306Z",
     "start_time": "2025-03-07T21:37:20.216381Z"
    },
    "collapsed": true
   },
   "outputs": [
    {
     "name": "stderr",
     "output_type": "stream",
     "text": [
      "D:\\Side-Projects\\ShortcutFM\\.venv\\Lib\\site-packages\\tqdm\\auto.py:21: TqdmWarning: IProgress not found. Please update jupyter and ipywidgets. See https://ipywidgets.readthedocs.io/en/stable/user_install.html\n",
      "  from .autonotebook import tqdm as notebook_tqdm\n"
     ]
    }
   ],
   "source": [
    "from transformers import AutoTokenizer\n",
    "\n",
    "from datasets import Dataset\n",
    "\n",
    "tokenizer = AutoTokenizer.from_pretrained(\"answerdotai/ModernBERT-base\")"
   ]
  },
  {
   "cell_type": "code",
   "execution_count": 2,
   "id": "4d0cd2a87fd78576",
   "metadata": {
    "ExecuteTime": {
     "end_time": "2025-03-07T21:38:30.731527Z",
     "start_time": "2025-03-07T21:38:30.686347Z"
    }
   },
   "outputs": [],
   "source": [
    "ds = Dataset.load_from_disk(\"../datasets/tokenized/ModernBERT-base/QQP-Official/train\")"
   ]
  },
  {
   "cell_type": "code",
   "execution_count": 14,
   "id": "3a1b36a7dc19ae5b",
   "metadata": {
    "ExecuteTime": {
     "end_time": "2025-03-07T21:40:25.049154Z",
     "start_time": "2025-03-07T21:40:25.040189Z"
    }
   },
   "outputs": [
    {
     "data": {
      "text/plain": [
       "28"
      ]
     },
     "execution_count": 14,
     "metadata": {},
     "output_type": "execute_result"
    }
   ],
   "source": [
    "ds_5 = ds.select(range(5))\n",
    "sum(ds_5[\"padding_mask\"][0])\n",
    "print(ds_5[\"padding_mask\"][0])"
   ]
  },
  {
   "cell_type": "code",
   "execution_count": 16,
   "id": "d08360b3d52626be",
   "metadata": {
    "ExecuteTime": {
     "end_time": "2025-03-07T21:40:54.817017Z",
     "start_time": "2025-03-07T21:40:54.809645Z"
    }
   },
   "outputs": [
    {
     "data": {
      "text/plain": [
       "[50281,\n",
       " 42228,\n",
       " 280,\n",
       " 285,\n",
       " 42079,\n",
       " 13536,\n",
       " 547,\n",
       " 27,\n",
       " 1737,\n",
       " 476,\n",
       " 309,\n",
       " 513,\n",
       " 846,\n",
       " 21006,\n",
       " 270,\n",
       " 681,\n",
       " 32,\n",
       " 50282,\n",
       " 50281,\n",
       " 1276,\n",
       " 943,\n",
       " 309,\n",
       " 513,\n",
       " 846,\n",
       " 270,\n",
       " 681,\n",
       " 32,\n",
       " 50282,\n",
       " 50283]"
      ]
     },
     "execution_count": 16,
     "metadata": {},
     "output_type": "execute_result"
    }
   ],
   "source": [
    "ds_5[0][\"input_ids\"][:29]"
   ]
  },
  {
   "cell_type": "code",
   "execution_count": null,
   "id": "70ec372a43965407",
   "metadata": {},
   "outputs": [],
   "source": []
  }
 ],
 "metadata": {
  "kernelspec": {
   "display_name": "Python 3",
   "language": "python",
   "name": "python3"
  },
  "language_info": {
   "codemirror_mode": {
    "name": "ipython",
    "version": 2
   },
   "file_extension": ".py",
   "mimetype": "text/x-python",
   "name": "python",
   "nbconvert_exporter": "python",
   "pygments_lexer": "ipython2",
   "version": "2.7.6"
  }
 },
 "nbformat": 4,
 "nbformat_minor": 5
}
