{
 "cells": [
  {
   "cell_type": "code",
   "execution_count": 28,
   "id": "initial_id",
   "metadata": {
    "ExecuteTime": {
     "end_time": "2025-03-30T18:13:39.382026Z",
     "start_time": "2025-03-30T18:13:39.378143Z"
    },
    "collapsed": true
   },
   "outputs": [],
   "source": [
    "def _extract_clean_predicted_text(predicted_text):\n",
    "    \"\"\"Extract clean predicted text from the model prediction part.\n",
    "    The function assumes:\n",
    "    1. Each text starts with a CLS token\n",
    "    2. There's a SEP token after the source sequence\n",
    "    3. Everything after this SEP is the model's prediction\n",
    "    4. We want text up to the first SEP token in the prediction part\n",
    "\n",
    "    Args:\n",
    "        predicted_text (list[str]): List of predicted texts with special tokens\n",
    "\n",
    "    Returns:\n",
    "        list[str]: List of clean predicted texts\n",
    "\n",
    "    \"\"\"\n",
    "    clean_texts = []\n",
    "\n",
    "    for text in predicted_text:\n",
    "        # First, find the SEP token that comes after the source sequence\n",
    "        parts = text.split(\"[SEP]\", 1)  # Split on first SEP\n",
    "        # The prediction part starts after the first SEP\n",
    "        prediction_part = parts[1].strip()  # stripping sep in case of double sep after src sequence\n",
    "        if prediction_part.find(\"[SEP]\") == 0:\n",
    "            prediction_part = prediction_part[len(\"[SEP]\") :].strip()\n",
    "\n",
    "        # If there are more SEP tokens in the prediction, take only up to the first one\n",
    "        prediction_part = prediction_part.split(\"[SEP]\", 1)[0]\n",
    "\n",
    "        # Remove any remaining special tokens (like CLS) and strip whitespace\n",
    "        clean_prediction = prediction_part.replace(\"[CLS]\", \"\").replace(\"[PAD]\", \"\").replace(\"[SEP]\", \"\").strip()\n",
    "        clean_texts.append(clean_prediction)\n",
    "\n",
    "    return clean_texts"
   ]
  },
  {
   "cell_type": "code",
   "execution_count": 34,
   "id": "d5c0d86975dbf164",
   "metadata": {
    "ExecuteTime": {
     "end_time": "2025-03-30T18:23:44.432511Z",
     "start_time": "2025-03-30T18:23:44.428230Z"
    }
   },
   "outputs": [
    {
     "name": "stdout",
     "output_type": "stream",
     "text": [
      "['what should i do after bcom?']\n"
     ]
    }
   ],
   "source": [
    "predicted_text = [\"[CLS] This is a test sentence. [SEP] This is the model's prediction. [SEP] bla bla bla\"]\n",
    "# predicted_text = [\"[CLS] This is a test sentence. [SEP][SEP] This is the model's prediction. [SEP] bla bla bla\"]\n",
    "predicted_text = [\n",
    "    \"[CLS] academic and educational advice : what can i do after completing bcom? [SEP] [CLS] what should i do after bcom? [SEP] [PAD] [PAD] is thrown in a vertically upward direction with a velocity of 50 km / s. what ' s the maximum height? [SEP] [PAD] [PAD] [PAD] [PAD] a [CLS] vertically [CLS] [SEP] [PAD]? [PAD] is [PAD]? [PAD] [PAD] [CLS]? i [PAD] [PAD] [PAD] upward [PAD] a? [CLS] is? what [CLS] [PAD] [PAD] [PAD] of [SEP] what? i what [PAD] [CLS] [PAD] what what a to after [CLS] [PAD] [CLS] [SEP] a [PAD] is [PAD] [CLS] what [SEP] [PAD] upward is [PAD] [PAD] [CLS] [PAD] [CLS] what [PAD] what is? [PAD] what a\"\n",
    "]\n",
    "clean = _extract_clean_predicted_text(predicted_text)\n",
    "print(clean)"
   ]
  },
  {
   "cell_type": "code",
   "execution_count": 35,
   "id": "b4998239d280135f",
   "metadata": {
    "ExecuteTime": {
     "end_time": "2025-03-30T18:23:44.934869Z",
     "start_time": "2025-03-30T18:23:44.929864Z"
    }
   },
   "outputs": [
    {
     "data": {
      "text/plain": [
       "\" This is the model's prediction. [SEP] bla bla bla\""
      ]
     },
     "execution_count": 35,
     "metadata": {},
     "output_type": "execute_result"
    }
   ],
   "source": [
    "\"[SEP] This is the model's prediction. [SEP] bla bla bla\".strip(\"[SEP]\")"
   ]
  },
  {
   "cell_type": "code",
   "execution_count": 37,
   "id": "74242cd47cae597e",
   "metadata": {
    "ExecuteTime": {
     "end_time": "2025-03-30T18:23:59.990774Z",
     "start_time": "2025-03-30T18:23:58.415052Z"
    }
   },
   "outputs": [
    {
     "name": "stdout",
     "output_type": "stream",
     "text": [
      "{'bleu': 1.0, 'precisions': [1.0, 1.0, 1.0, 1.0], 'brevity_penalty': 1.0, 'length_ratio': 1.0, 'translation_length': 7, 'reference_length': 7}\n"
     ]
    }
   ],
   "source": [
    "import evaluate\n",
    "\n",
    "bleu = evaluate.load(\"bleu\")\n",
    "\n",
    "ref = [[\"what should i do after bcom?\"]]\n",
    "hyp = clean\n",
    "bleu_score = bleu.compute(predictions=hyp, references=ref)\n",
    "print(bleu_score)"
   ]
  },
  {
   "cell_type": "code",
   "execution_count": null,
   "id": "b46d84357502bd7f",
   "metadata": {},
   "outputs": [],
   "source": []
  }
 ],
 "metadata": {
  "kernelspec": {
   "display_name": "Python 3",
   "language": "python",
   "name": "python3"
  },
  "language_info": {
   "codemirror_mode": {
    "name": "ipython",
    "version": 2
   },
   "file_extension": ".py",
   "mimetype": "text/x-python",
   "name": "python",
   "nbconvert_exporter": "python",
   "pygments_lexer": "ipython2",
   "version": "2.7.6"
  }
 },
 "nbformat": 4,
 "nbformat_minor": 5
}
