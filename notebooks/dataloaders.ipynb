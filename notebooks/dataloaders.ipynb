{
 "cells": [
  {
   "cell_type": "code",
   "execution_count": 12,
   "id": "434eff0269d676a9",
   "metadata": {
    "ExecuteTime": {
     "end_time": "2025-03-17T11:18:19.810723Z",
     "start_time": "2025-03-17T11:18:19.807205Z"
    }
   },
   "outputs": [],
   "source": [
    "import os\n",
    "\n",
    "from transformers import AutoTokenizer\n",
    "\n",
    "from shortcutfm.__main__ import parse_config"
   ]
  },
  {
   "cell_type": "code",
   "execution_count": 6,
   "id": "initial_id",
   "metadata": {
    "ExecuteTime": {
     "end_time": "2025-03-17T11:16:39.893229Z",
     "start_time": "2025-03-17T11:16:39.889033Z"
    },
    "collapsed": true
   },
   "outputs": [],
   "source": [
    "os.chdir(\"..\")"
   ]
  },
  {
   "cell_type": "code",
   "execution_count": 7,
   "id": "47efaf0357262ab1",
   "metadata": {
    "ExecuteTime": {
     "end_time": "2025-03-17T11:16:41.815511Z",
     "start_time": "2025-03-17T11:16:41.799080Z"
    }
   },
   "outputs": [],
   "source": [
    "cfg = parse_config(\"configs/training/qqp.yaml\", [])"
   ]
  },
  {
   "cell_type": "code",
   "execution_count": 20,
   "id": "49824dd82f9ed93",
   "metadata": {
    "ExecuteTime": {
     "end_time": "2025-03-17T11:40:55.836694Z",
     "start_time": "2025-03-17T11:40:55.797834Z"
    }
   },
   "outputs": [],
   "source": [
    "from torch.utils.data import DataLoader\n",
    "\n",
    "from datasets import Dataset\n",
    "from shortcutfm.batch import collate\n",
    "from shortcutfm.text_datasets import TextDataset\n",
    "\n",
    "train_ds = Dataset.load_from_disk(cfg.training_data_path)\n",
    "train_text_ds = TextDataset(train_ds)\n",
    "train = DataLoader(\n",
    "    train_text_ds,\n",
    "    batch_size=cfg.batch_size,\n",
    "    collate_fn=collate,\n",
    "    shuffle=False,\n",
    "    num_workers=8,\n",
    "    persistent_workers=True,\n",
    ")"
   ]
  },
  {
   "cell_type": "code",
   "execution_count": 21,
   "id": "d95294c44c57dc16",
   "metadata": {
    "ExecuteTime": {
     "end_time": "2025-03-17T11:40:56.689528Z",
     "start_time": "2025-03-17T11:40:56.637173Z"
    }
   },
   "outputs": [
    {
     "data": {
      "text/plain": [
       "18090"
      ]
     },
     "execution_count": 21,
     "metadata": {},
     "output_type": "execute_result"
    }
   ],
   "source": [
    "len(train)"
   ]
  },
  {
   "cell_type": "code",
   "execution_count": 22,
   "id": "6560017c36b27cfc",
   "metadata": {
    "ExecuteTime": {
     "end_time": "2025-03-17T11:41:00.421950Z",
     "start_time": "2025-03-17T11:41:00.111953Z"
    }
   },
   "outputs": [],
   "source": [
    "tokenizer = AutoTokenizer.from_pretrained(\"bert-base-uncased\")"
   ]
  },
  {
   "cell_type": "code",
   "execution_count": 31,
   "id": "992a705b08dd5761",
   "metadata": {
    "ExecuteTime": {
     "end_time": "2025-03-17T11:55:44.613102Z",
     "start_time": "2025-03-17T11:55:44.564216Z"
    }
   },
   "outputs": [
    {
     "name": "stdout",
     "output_type": "stream",
     "text": [
      "\n",
      "Example 1:\n",
      "Decoded full sequence:\n",
      "[CLS] academic and educational advice : what can i do after completing bcom? [SEP] [CLS] what should i do after bcom? [SEP] [PAD] [PAD] [PAD] [PAD] [PAD] [PAD] [PAD] [PAD] [PAD] [PAD] [PAD] [PAD] [PAD] [PAD] [PAD] [PAD] [PAD] [PAD] [PAD] [PAD] [PAD] [PAD] [PAD] [PAD] [PAD] [PAD] [PAD] [PAD] [PAD] [PAD] [PAD] [PAD] [PAD] [PAD] [PAD] [PAD] [PAD] [PAD] [PAD] [PAD] [PAD] [PAD] [PAD] [PAD] [PAD] [PAD] [PAD] [PAD] [PAD] [PAD] [PAD] [PAD] [PAD] [PAD] [PAD] [PAD] [PAD] [PAD] [PAD] [PAD] [PAD] [PAD] [PAD] [PAD] [PAD] [PAD] [PAD] [PAD] [PAD] [PAD] [PAD] [PAD] [PAD] [PAD] [PAD] [PAD] [PAD] [PAD] [PAD] [PAD] [PAD] [PAD] [PAD] [PAD] [PAD] [PAD] [PAD] [PAD] [PAD] [PAD] [PAD] [PAD] [PAD] [PAD] [PAD] [PAD] [PAD] [PAD] [PAD] [PAD] [PAD] [PAD]\n",
      "\n",
      "Token IDs (Source Sequence):\n",
      "[101, 3834, 1998, 4547, 6040, 1024, 2054, 2064, 1045, 2079, 2044, 7678, 4647, 5358, 1029, 102]\n",
      "\n",
      "Decoded words (Source Sequence):\n",
      "['[CLS]', 'academic', 'and', 'educational', 'advice', ':', 'what', 'can', 'i', 'do', 'after', 'completing', 'bc', '##om', '?', '[SEP]']\n",
      "\n",
      "Token IDs contributing to loss:\n",
      "[101, 2054, 2323, 1045, 2079, 2044, 4647, 5358, 1029, 102]\n",
      "\n",
      "Decoded words contributing to loss:\n",
      "['[CLS]', 'what', 'should', 'i', 'do', 'after', 'bc', '##om', '?', '[SEP]']\n",
      "\n",
      "\n",
      "Example 2:\n",
      "Decoded full sequence:\n",
      "[CLS] what are some good songs to make a texting lyric prank? [SEP] [CLS] what is a good prank lyric text to text to a friend? [SEP] [PAD] [PAD] [PAD] [PAD] [PAD] [PAD] [PAD] [PAD] [PAD] [PAD] [PAD] [PAD] [PAD] [PAD] [PAD] [PAD] [PAD] [PAD] [PAD] [PAD] [PAD] [PAD] [PAD] [PAD] [PAD] [PAD] [PAD] [PAD] [PAD] [PAD] [PAD] [PAD] [PAD] [PAD] [PAD] [PAD] [PAD] [PAD] [PAD] [PAD] [PAD] [PAD] [PAD] [PAD] [PAD] [PAD] [PAD] [PAD] [PAD] [PAD] [PAD] [PAD] [PAD] [PAD] [PAD] [PAD] [PAD] [PAD] [PAD] [PAD] [PAD] [PAD] [PAD] [PAD] [PAD] [PAD] [PAD] [PAD] [PAD] [PAD] [PAD] [PAD] [PAD] [PAD] [PAD] [PAD] [PAD] [PAD] [PAD] [PAD] [PAD] [PAD] [PAD] [PAD] [PAD] [PAD] [PAD] [PAD] [PAD] [PAD] [PAD] [PAD] [PAD] [PAD] [PAD] [PAD] [PAD] [PAD]\n",
      "\n",
      "Token IDs (Source Sequence):\n",
      "[101, 2054, 2024, 2070, 2204, 2774, 2000, 2191, 1037, 3793, 2075, 13677, 26418, 1029, 102]\n",
      "\n",
      "Decoded words (Source Sequence):\n",
      "['[CLS]', 'what', 'are', 'some', 'good', 'songs', 'to', 'make', 'a', 'text', '##ing', 'lyric', 'prank', '?', '[SEP]']\n",
      "\n",
      "Token IDs contributing to loss:\n",
      "[101, 2054, 2003, 1037, 2204, 26418, 13677, 3793, 2000, 3793, 2000, 1037, 2767, 1029, 102]\n",
      "\n",
      "Decoded words contributing to loss:\n",
      "['[CLS]', 'what', 'is', 'a', 'good', 'prank', 'lyric', 'text', 'to', 'text', 'to', 'a', 'friend', '?', '[SEP]']\n",
      "\n",
      "\n",
      "Example 3:\n",
      "Decoded full sequence:\n",
      "[CLS] how do i kill rats? [SEP] [CLS] how can i kill a pack rat? [SEP] [PAD] [PAD] [PAD] [PAD] [PAD] [PAD] [PAD] [PAD] [PAD] [PAD] [PAD] [PAD] [PAD] [PAD] [PAD] [PAD] [PAD] [PAD] [PAD] [PAD] [PAD] [PAD] [PAD] [PAD] [PAD] [PAD] [PAD] [PAD] [PAD] [PAD] [PAD] [PAD] [PAD] [PAD] [PAD] [PAD] [PAD] [PAD] [PAD] [PAD] [PAD] [PAD] [PAD] [PAD] [PAD] [PAD] [PAD] [PAD] [PAD] [PAD] [PAD] [PAD] [PAD] [PAD] [PAD] [PAD] [PAD] [PAD] [PAD] [PAD] [PAD] [PAD] [PAD] [PAD] [PAD] [PAD] [PAD] [PAD] [PAD] [PAD] [PAD] [PAD] [PAD] [PAD] [PAD] [PAD] [PAD] [PAD] [PAD] [PAD] [PAD] [PAD] [PAD] [PAD] [PAD] [PAD] [PAD] [PAD] [PAD] [PAD] [PAD] [PAD] [PAD] [PAD] [PAD] [PAD] [PAD] [PAD] [PAD] [PAD] [PAD] [PAD] [PAD] [PAD] [PAD] [PAD] [PAD] [PAD] [PAD] [PAD]\n",
      "\n",
      "Token IDs (Source Sequence):\n",
      "[101, 2129, 2079, 1045, 3102, 11432, 1029, 102]\n",
      "\n",
      "Decoded words (Source Sequence):\n",
      "['[CLS]', 'how', 'do', 'i', 'kill', 'rats', '?', '[SEP]']\n",
      "\n",
      "Token IDs contributing to loss:\n",
      "[101, 2129, 2064, 1045, 3102, 1037, 5308, 9350, 1029, 102]\n",
      "\n",
      "Decoded words contributing to loss:\n",
      "['[CLS]', 'how', 'can', 'i', 'kill', 'a', 'pack', 'rat', '?', '[SEP]']\n",
      "\n",
      "\n",
      "Example 4:\n",
      "Decoded full sequence:\n",
      "[CLS] a ball is thrown vertically upward direction with an initial velocity 50 km / s. what ' s the maximum height? [SEP] [CLS] a ball is thrown in a vertically upward direction with a velocity of 50 km / s. what ' s the maximum height? [SEP] [PAD] [PAD] [PAD] [PAD] [PAD] [PAD] [PAD] [PAD] [PAD] [PAD] [PAD] [PAD] [PAD] [PAD] [PAD] [PAD] [PAD] [PAD] [PAD] [PAD] [PAD] [PAD] [PAD] [PAD] [PAD] [PAD] [PAD] [PAD] [PAD] [PAD] [PAD] [PAD] [PAD] [PAD] [PAD] [PAD] [PAD] [PAD] [PAD] [PAD] [PAD] [PAD] [PAD] [PAD] [PAD] [PAD] [PAD] [PAD] [PAD] [PAD] [PAD] [PAD] [PAD] [PAD] [PAD] [PAD] [PAD] [PAD] [PAD] [PAD] [PAD] [PAD] [PAD] [PAD] [PAD] [PAD] [PAD] [PAD] [PAD] [PAD] [PAD] [PAD] [PAD] [PAD] [PAD] [PAD]\n",
      "\n",
      "Token IDs (Source Sequence):\n",
      "[101, 1037, 3608, 2003, 6908, 20018, 10745, 3257, 2007, 2019, 3988, 10146, 2753, 2463, 1013, 1055, 1012, 2054, 1005, 1055, 1996, 4555, 4578, 1029, 102]\n",
      "\n",
      "Decoded words (Source Sequence):\n",
      "['[CLS]', 'a', 'ball', 'is', 'thrown', 'vertically', 'upward', 'direction', 'with', 'an', 'initial', 'velocity', '50', 'km', '/', 's', '.', 'what', \"'\", 's', 'the', 'maximum', 'height', '?', '[SEP]']\n",
      "\n",
      "Token IDs contributing to loss:\n",
      "[101, 1037, 3608, 2003, 6908, 1999, 1037, 20018, 10745, 3257, 2007, 1037, 10146, 1997, 2753, 2463, 1013, 1055, 1012, 2054, 1005, 1055, 1996, 4555, 4578, 1029, 102]\n",
      "\n",
      "Decoded words contributing to loss:\n",
      "['[CLS]', 'a', 'ball', 'is', 'thrown', 'in', 'a', 'vertically', 'upward', 'direction', 'with', 'a', 'velocity', 'of', '50', 'km', '/', 's', '.', 'what', \"'\", 's', 'the', 'maximum', 'height', '?', '[SEP]']\n",
      "\n",
      "\n",
      "Example 5:\n",
      "Decoded full sequence:\n",
      "[CLS] how did donald trump win the elections? [SEP] [CLS] how did donald trump win the 2016 presidential election? [SEP] [PAD] [PAD] [PAD] [PAD] [PAD] [PAD] [PAD] [PAD] [PAD] [PAD] [PAD] [PAD] [PAD] [PAD] [PAD] [PAD] [PAD] [PAD] [PAD] [PAD] [PAD] [PAD] [PAD] [PAD] [PAD] [PAD] [PAD] [PAD] [PAD] [PAD] [PAD] [PAD] [PAD] [PAD] [PAD] [PAD] [PAD] [PAD] [PAD] [PAD] [PAD] [PAD] [PAD] [PAD] [PAD] [PAD] [PAD] [PAD] [PAD] [PAD] [PAD] [PAD] [PAD] [PAD] [PAD] [PAD] [PAD] [PAD] [PAD] [PAD] [PAD] [PAD] [PAD] [PAD] [PAD] [PAD] [PAD] [PAD] [PAD] [PAD] [PAD] [PAD] [PAD] [PAD] [PAD] [PAD] [PAD] [PAD] [PAD] [PAD] [PAD] [PAD] [PAD] [PAD] [PAD] [PAD] [PAD] [PAD] [PAD] [PAD] [PAD] [PAD] [PAD] [PAD] [PAD] [PAD] [PAD] [PAD] [PAD] [PAD] [PAD] [PAD] [PAD] [PAD] [PAD] [PAD]\n",
      "\n",
      "Token IDs (Source Sequence):\n",
      "[101, 2129, 2106, 6221, 8398, 2663, 1996, 3864, 1029, 102]\n",
      "\n",
      "Decoded words (Source Sequence):\n",
      "['[CLS]', 'how', 'did', 'donald', 'trump', 'win', 'the', 'elections', '?', '[SEP]']\n",
      "\n",
      "Token IDs contributing to loss:\n",
      "[101, 2129, 2106, 6221, 8398, 2663, 1996, 2355, 4883, 2602, 1029, 102]\n",
      "\n",
      "Decoded words contributing to loss:\n",
      "['[CLS]', 'how', 'did', 'donald', 'trump', 'win', 'the', '2016', 'presidential', 'election', '?', '[SEP]']\n",
      "\n",
      "\n",
      "Example 6:\n",
      "Decoded full sequence:\n",
      "[CLS] how is this lewis dot diagram for clo3 determined? [SEP] [CLS] what is the lewis dot diagram for clo3? [SEP] [PAD] [PAD] [PAD] [PAD] [PAD] [PAD] [PAD] [PAD] [PAD] [PAD] [PAD] [PAD] [PAD] [PAD] [PAD] [PAD] [PAD] [PAD] [PAD] [PAD] [PAD] [PAD] [PAD] [PAD] [PAD] [PAD] [PAD] [PAD] [PAD] [PAD] [PAD] [PAD] [PAD] [PAD] [PAD] [PAD] [PAD] [PAD] [PAD] [PAD] [PAD] [PAD] [PAD] [PAD] [PAD] [PAD] [PAD] [PAD] [PAD] [PAD] [PAD] [PAD] [PAD] [PAD] [PAD] [PAD] [PAD] [PAD] [PAD] [PAD] [PAD] [PAD] [PAD] [PAD] [PAD] [PAD] [PAD] [PAD] [PAD] [PAD] [PAD] [PAD] [PAD] [PAD] [PAD] [PAD] [PAD] [PAD] [PAD] [PAD] [PAD] [PAD] [PAD] [PAD] [PAD] [PAD] [PAD] [PAD] [PAD] [PAD] [PAD] [PAD] [PAD] [PAD] [PAD] [PAD] [PAD] [PAD] [PAD] [PAD] [PAD]\n",
      "\n",
      "Token IDs (Source Sequence):\n",
      "[101, 2129, 2003, 2023, 4572, 11089, 16403, 2005, 18856, 2080, 2509, 4340, 1029, 102]\n",
      "\n",
      "Decoded words (Source Sequence):\n",
      "['[CLS]', 'how', 'is', 'this', 'lewis', 'dot', 'diagram', 'for', 'cl', '##o', '##3', 'determined', '?', '[SEP]']\n",
      "\n",
      "Token IDs contributing to loss:\n",
      "[101, 2054, 2003, 1996, 4572, 11089, 16403, 2005, 18856, 2080, 2509, 1029, 102]\n",
      "\n",
      "Decoded words contributing to loss:\n",
      "['[CLS]', 'what', 'is', 'the', 'lewis', 'dot', 'diagram', 'for', 'cl', '##o', '##3', '?', '[SEP]']\n",
      "\n",
      "\n",
      "Example 7:\n",
      "Decoded full sequence:\n",
      "[CLS] how can i make a suicide look like an accident? [SEP] [CLS] how do i make suicide look like an accident? [SEP] [PAD] [PAD] [PAD] [PAD] [PAD] [PAD] [PAD] [PAD] [PAD] [PAD] [PAD] [PAD] [PAD] [PAD] [PAD] [PAD] [PAD] [PAD] [PAD] [PAD] [PAD] [PAD] [PAD] [PAD] [PAD] [PAD] [PAD] [PAD] [PAD] [PAD] [PAD] [PAD] [PAD] [PAD] [PAD] [PAD] [PAD] [PAD] [PAD] [PAD] [PAD] [PAD] [PAD] [PAD] [PAD] [PAD] [PAD] [PAD] [PAD] [PAD] [PAD] [PAD] [PAD] [PAD] [PAD] [PAD] [PAD] [PAD] [PAD] [PAD] [PAD] [PAD] [PAD] [PAD] [PAD] [PAD] [PAD] [PAD] [PAD] [PAD] [PAD] [PAD] [PAD] [PAD] [PAD] [PAD] [PAD] [PAD] [PAD] [PAD] [PAD] [PAD] [PAD] [PAD] [PAD] [PAD] [PAD] [PAD] [PAD] [PAD] [PAD] [PAD] [PAD] [PAD] [PAD] [PAD] [PAD] [PAD] [PAD] [PAD] [PAD] [PAD] [PAD]\n",
      "\n",
      "Token IDs (Source Sequence):\n",
      "[101, 2129, 2064, 1045, 2191, 1037, 5920, 2298, 2066, 2019, 4926, 1029, 102]\n",
      "\n",
      "Decoded words (Source Sequence):\n",
      "['[CLS]', 'how', 'can', 'i', 'make', 'a', 'suicide', 'look', 'like', 'an', 'accident', '?', '[SEP]']\n",
      "\n",
      "Token IDs contributing to loss:\n",
      "[101, 2129, 2079, 1045, 2191, 5920, 2298, 2066, 2019, 4926, 1029, 102]\n",
      "\n",
      "Decoded words contributing to loss:\n",
      "['[CLS]', 'how', 'do', 'i', 'make', 'suicide', 'look', 'like', 'an', 'accident', '?', '[SEP]']\n",
      "\n",
      "\n",
      "Example 8:\n",
      "Decoded full sequence:\n",
      "[CLS] why are boys so different from girls? [SEP] [CLS] are girls really so different from boys? [SEP] [PAD] [PAD] [PAD] [PAD] [PAD] [PAD] [PAD] [PAD] [PAD] [PAD] [PAD] [PAD] [PAD] [PAD] [PAD] [PAD] [PAD] [PAD] [PAD] [PAD] [PAD] [PAD] [PAD] [PAD] [PAD] [PAD] [PAD] [PAD] [PAD] [PAD] [PAD] [PAD] [PAD] [PAD] [PAD] [PAD] [PAD] [PAD] [PAD] [PAD] [PAD] [PAD] [PAD] [PAD] [PAD] [PAD] [PAD] [PAD] [PAD] [PAD] [PAD] [PAD] [PAD] [PAD] [PAD] [PAD] [PAD] [PAD] [PAD] [PAD] [PAD] [PAD] [PAD] [PAD] [PAD] [PAD] [PAD] [PAD] [PAD] [PAD] [PAD] [PAD] [PAD] [PAD] [PAD] [PAD] [PAD] [PAD] [PAD] [PAD] [PAD] [PAD] [PAD] [PAD] [PAD] [PAD] [PAD] [PAD] [PAD] [PAD] [PAD] [PAD] [PAD] [PAD] [PAD] [PAD] [PAD] [PAD] [PAD] [PAD] [PAD] [PAD] [PAD] [PAD] [PAD] [PAD] [PAD] [PAD]\n",
      "\n",
      "Token IDs (Source Sequence):\n",
      "[101, 2339, 2024, 3337, 2061, 2367, 2013, 3057, 1029, 102]\n",
      "\n",
      "Decoded words (Source Sequence):\n",
      "['[CLS]', 'why', 'are', 'boys', 'so', 'different', 'from', 'girls', '?', '[SEP]']\n",
      "\n",
      "Token IDs contributing to loss:\n",
      "[101, 2024, 3057, 2428, 2061, 2367, 2013, 3337, 1029, 102]\n",
      "\n",
      "Decoded words contributing to loss:\n",
      "['[CLS]', 'are', 'girls', 'really', 'so', 'different', 'from', 'boys', '?', '[SEP]']\n",
      "\n"
     ]
    }
   ],
   "source": [
    "for batch in train:\n",
    "    texts = tokenizer.batch_decode(batch.seqs, skip_special_tokens=False)\n",
    "\n",
    "    for idx, (text, seq, input_mask, pad_mask) in enumerate(\n",
    "        zip(texts, batch.seqs, batch.input_ids_mask, batch.padding_mask, strict=False)\n",
    "    ):\n",
    "        print(f\"\\nExample {idx + 1}:\")\n",
    "        print(f\"Decoded full sequence:\\n{text}\\n\")\n",
    "\n",
    "        # Compute loss mask\n",
    "        loss_mask = pad_mask * input_mask\n",
    "\n",
    "        # Token IDs and words belonging to the source sequence (input part)\n",
    "        src_token_ids = seq[(input_mask == 0).bool()].tolist()\n",
    "        decoded_src_tokens = tokenizer.batch_decode(src_token_ids, skip_special_tokens=False)\n",
    "\n",
    "        print(f\"Token IDs (Source Sequence):\\n{src_token_ids}\\n\")\n",
    "        print(f\"Decoded words (Source Sequence):\\n{decoded_src_tokens}\\n\")\n",
    "\n",
    "        # Token IDs and words contributing to loss (target part)\n",
    "        loss_token_ids = seq[loss_mask.bool()].tolist()\n",
    "        decoded_loss_tokens = tokenizer.batch_decode(loss_token_ids, skip_special_tokens=False)\n",
    "\n",
    "        print(f\"Token IDs contributing to loss:\\n{loss_token_ids}\\n\")\n",
    "        print(f\"Decoded words contributing to loss:\\n{decoded_loss_tokens}\\n\")\n",
    "\n",
    "    break  # Process only the first batch for verification"
   ]
  },
  {
   "cell_type": "code",
   "execution_count": null,
   "id": "95fe95ac6a1a415c",
   "metadata": {},
   "outputs": [],
   "source": []
  }
 ],
 "metadata": {
  "kernelspec": {
   "display_name": "Python 3",
   "language": "python",
   "name": "python3"
  },
  "language_info": {
   "codemirror_mode": {
    "name": "ipython",
    "version": 2
   },
   "file_extension": ".py",
   "mimetype": "text/x-python",
   "name": "python",
   "nbconvert_exporter": "python",
   "pygments_lexer": "ipython2",
   "version": "2.7.6"
  }
 },
 "nbformat": 4,
 "nbformat_minor": 5
}
